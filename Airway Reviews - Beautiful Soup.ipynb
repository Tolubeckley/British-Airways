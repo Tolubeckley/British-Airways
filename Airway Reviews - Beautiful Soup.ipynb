{
 "cells": [
  {
   "cell_type": "code",
   "execution_count": 1,
   "id": "19d769ae",
   "metadata": {},
   "outputs": [],
   "source": [
    "import requests"
   ]
  },
  {
   "cell_type": "code",
   "execution_count": 2,
   "id": "9816aa03",
   "metadata": {},
   "outputs": [],
   "source": [
    "review_url = 'https://www.airlinequality.com/airline-reviews/british-airways/'"
   ]
  },
  {
   "cell_type": "code",
   "execution_count": 3,
   "id": "7473f24a",
   "metadata": {},
   "outputs": [],
   "source": [
    "from bs4 import BeautifulSoup"
   ]
  },
  {
   "cell_type": "code",
   "execution_count": 4,
   "id": "4106b097",
   "metadata": {},
   "outputs": [],
   "source": [
    "total_pages = 301"
   ]
  },
  {
   "cell_type": "code",
   "execution_count": 5,
   "id": "89cb871a",
   "metadata": {},
   "outputs": [],
   "source": [
    "rating_dates = []\n",
    "rating_titles = []\n",
    "rating_ids = []\n",
    "rating_values = []\n",
    "\n",
    "for page in range (1,total_pages):\n",
    "    page_url = review_url + f\"page/{page}/\"\n",
    "    page_response = requests.get(page_url)\n",
    "    page_soup = BeautifulSoup(page_response.content, \"html.parser\")\n",
    "    rating_date = page_soup.find_all('time', {'itemprop':'datePublished'})\n",
    "    rating_title = page_soup.find_all('h2', {'class':'text_header'})\n",
    "    rating_id = page_soup.find_all('span', {'itemprop':'name'})\n",
    "    the_rating_value = page_soup.find_all('span', {'itemprop':'ratingValue'})\n",
    "    rating_value = the_rating_value[1:]\n",
    "    rating_values.append(rating_value)\n",
    "    rating_dates.append(rating_date)\n",
    "    rating_titles.append(rating_title)\n",
    "    rating_ids.append(rating_id)\n",
    "    \n",
    "\n",
    "rating_date_tag = sum(rating_dates,[])\n",
    "rating_title_tag = sum(rating_titles,[])\n",
    "rating_id_tag = sum(rating_ids,[])\n",
    "rating_value_tag = sum(rating_values,[])"
   ]
  },
  {
   "cell_type": "code",
   "execution_count": 6,
   "id": "c008db84",
   "metadata": {},
   "outputs": [
    {
     "data": {
      "text/plain": [
       "3000"
      ]
     },
     "execution_count": 6,
     "metadata": {},
     "output_type": "execute_result"
    }
   ],
   "source": [
    "len(rating_value_tag)"
   ]
  },
  {
   "cell_type": "code",
   "execution_count": 7,
   "id": "0389fe92",
   "metadata": {},
   "outputs": [],
   "source": [
    "rate_date = []\n",
    "rate_title = []\n",
    "rate_id = []\n",
    "rate_value = []\n",
    "for b,c,d,a in zip (rating_date_tag, rating_title_tag, rating_id_tag, rating_value_tag):\n",
    "    rate_date.append(b.text.strip())\n",
    "    rate_title.append(c.text.strip())\n",
    "    rate_id.append(d.text.strip())\n",
    "    rate_value.append(a.text.strip())"
   ]
  },
  {
   "cell_type": "code",
   "execution_count": 8,
   "id": "d43d8e43",
   "metadata": {
    "scrolled": true
   },
   "outputs": [
    {
     "data": {
      "text/plain": [
       "3000"
      ]
     },
     "execution_count": 8,
     "metadata": {},
     "output_type": "execute_result"
    }
   ],
   "source": [
    "len(rate_value)"
   ]
  },
  {
   "cell_type": "code",
   "execution_count": 9,
   "id": "4a96f4c9",
   "metadata": {},
   "outputs": [],
   "source": [
    "page_urls = []\n",
    "for page in range (1,total_pages):\n",
    "    page_ur = review_url + f\"page/{page}/\"\n",
    "    page_urls.append(page_ur)"
   ]
  },
  {
   "cell_type": "code",
   "execution_count": 10,
   "id": "6c788279",
   "metadata": {},
   "outputs": [],
   "source": [
    "review_values = {}\n",
    "\n",
    "for page_url in page_urls:\n",
    "    page_response = requests.get(page_url)\n",
    "    page_soup = BeautifulSoup(page_response.content, \"html.parser\")\n",
    "    tables = page_soup.find_all('table')\n",
    "\n",
    "    for i, table in enumerate(tables[1:], 1):\n",
    "        rows = table.find_all('tr')\n",
    "\n",
    "        # Reset the all_keys set for each table\n",
    "        all_keys = set(review_values.keys())\n",
    "\n",
    "        for row in rows:\n",
    "            cells = row.find_all('td')\n",
    "\n",
    "            if len(cells) == 2:\n",
    "                key = cells[0].get_text(strip=True)\n",
    "                value = cells[1].get_text(strip=True)\n",
    "\n",
    "                if 'review-rating-stars' in cells[1].get('class', []):\n",
    "                    span_elements = cells[1].find_all('span', class_='star fill')\n",
    "                    if span_elements:\n",
    "                        max_value = max(int(span.get_text(strip=True)) for span in span_elements)\n",
    "                        value = str(max_value)\n",
    "\n",
    "                if key not in review_values:\n",
    "                    review_values[key] = []\n",
    "\n",
    "                review_values[key].append(value)\n",
    "\n",
    "                # Remove key from all_keys set if it appears in the current table\n",
    "                all_keys.discard(key)\n",
    "\n",
    "        # Check if any expected keys are missing in the current table and assign '0' as the value\n",
    "        for key in all_keys:\n",
    "            review_values[key].append('0')"
   ]
  },
  {
   "cell_type": "code",
   "execution_count": 11,
   "id": "9d5f1863",
   "metadata": {},
   "outputs": [
    {
     "data": {
      "text/plain": [
       "3000"
      ]
     },
     "execution_count": 11,
     "metadata": {},
     "output_type": "execute_result"
    }
   ],
   "source": [
    "len(rating_value_tag)"
   ]
  },
  {
   "cell_type": "code",
   "execution_count": 12,
   "id": "0370bb85",
   "metadata": {},
   "outputs": [
    {
     "data": {
      "text/plain": [
       "3000"
      ]
     },
     "execution_count": 12,
     "metadata": {},
     "output_type": "execute_result"
    }
   ],
   "source": [
    "len(rating_value_tag)"
   ]
  },
  {
   "cell_type": "code",
   "execution_count": 13,
   "id": "e4d29046",
   "metadata": {
    "scrolled": false
   },
   "outputs": [
    {
     "data": {
      "text/plain": [
       "3000"
      ]
     },
     "execution_count": 13,
     "metadata": {},
     "output_type": "execute_result"
    }
   ],
   "source": [
    "len(review_values['Inflight Entertainment'])"
   ]
  },
  {
   "cell_type": "code",
   "execution_count": 14,
   "id": "042abd1d",
   "metadata": {},
   "outputs": [
    {
     "data": {
      "text/plain": [
       "{'Aircraft',\n",
       " 'Date Flown',\n",
       " 'Ground Service',\n",
       " 'Route',\n",
       " 'Type Of Traveller',\n",
       " 'Wifi & Connectivity'}"
      ]
     },
     "execution_count": 14,
     "metadata": {},
     "output_type": "execute_result"
    }
   ],
   "source": [
    "all_keys"
   ]
  },
  {
   "cell_type": "code",
   "execution_count": 15,
   "id": "eff40f57",
   "metadata": {},
   "outputs": [
    {
     "data": {
      "text/plain": [
       "3000"
      ]
     },
     "execution_count": 15,
     "metadata": {},
     "output_type": "execute_result"
    }
   ],
   "source": [
    "len(review_values['Seat Comfort'])"
   ]
  },
  {
   "cell_type": "code",
   "execution_count": 16,
   "id": "5b316dc4",
   "metadata": {},
   "outputs": [],
   "source": [
    "traveller_type = review_values['Type Of Traveller']\n",
    "seat_type = review_values['Seat Type']\n",
    "route = review_values['Route']\n",
    "date_flown = review_values['Date Flown']\n",
    "seat_comfort = review_values['Seat Comfort']\n",
    "flight_entertainment = review_values['Inflight Entertainment']\n",
    "cabin_staff_service = review_values['Cabin Staff Service']\n",
    "food_beverage = review_values['Food & Beverages']\n",
    "ground_service = review_values['Ground Service']\n",
    "connectivity = review_values['Wifi & Connectivity']\n",
    "value_for_money = review_values['Value For Money']\n",
    "recommended = review_values['Recommended']"
   ]
  },
  {
   "cell_type": "code",
   "execution_count": 17,
   "id": "ec4d12c7",
   "metadata": {},
   "outputs": [
    {
     "data": {
      "text/plain": [
       "3000"
      ]
     },
     "execution_count": 17,
     "metadata": {},
     "output_type": "execute_result"
    }
   ],
   "source": [
    "len(flight_entertainment)"
   ]
  },
  {
   "cell_type": "code",
   "execution_count": 18,
   "id": "d091f5ad",
   "metadata": {},
   "outputs": [],
   "source": [
    "import pandas as pd"
   ]
  },
  {
   "cell_type": "code",
   "execution_count": 19,
   "id": "1e0c6c79",
   "metadata": {},
   "outputs": [],
   "source": [
    "opinions = pd.DataFrame(\n",
    "            {'rate_id': rate_id,\n",
    "             'rate_date': rate_date,\n",
    "             'rate_title': rate_title,\n",
    "             'rate_value': rate_value,\n",
    "             'traveller_type': traveller_type,\n",
    "             'seat_type': seat_type,\n",
    "             'route': route,\n",
    "             'date_flown': date_flown,\n",
    "             'seat_comfort': seat_comfort,\n",
    "             'cabin_staff_service': cabin_staff_service,\n",
    "             'food_beverage': food_beverage,\n",
    "             'ground_service': ground_service,\n",
    "             'value_for_money': value_for_money,\n",
    "             'recommended': recommended,  \n",
    "            })"
   ]
  },
  {
   "cell_type": "code",
   "execution_count": 20,
   "id": "5211843f",
   "metadata": {},
   "outputs": [
    {
     "data": {
      "text/html": [
       "<div>\n",
       "<style scoped>\n",
       "    .dataframe tbody tr th:only-of-type {\n",
       "        vertical-align: middle;\n",
       "    }\n",
       "\n",
       "    .dataframe tbody tr th {\n",
       "        vertical-align: top;\n",
       "    }\n",
       "\n",
       "    .dataframe thead th {\n",
       "        text-align: right;\n",
       "    }\n",
       "</style>\n",
       "<table border=\"1\" class=\"dataframe\">\n",
       "  <thead>\n",
       "    <tr style=\"text-align: right;\">\n",
       "      <th></th>\n",
       "      <th>rate_id</th>\n",
       "      <th>rate_date</th>\n",
       "      <th>rate_title</th>\n",
       "      <th>rate_value</th>\n",
       "      <th>traveller_type</th>\n",
       "      <th>seat_type</th>\n",
       "      <th>route</th>\n",
       "      <th>date_flown</th>\n",
       "      <th>seat_comfort</th>\n",
       "      <th>cabin_staff_service</th>\n",
       "      <th>food_beverage</th>\n",
       "      <th>ground_service</th>\n",
       "      <th>value_for_money</th>\n",
       "      <th>recommended</th>\n",
       "    </tr>\n",
       "  </thead>\n",
       "  <tbody>\n",
       "    <tr>\n",
       "      <th>0</th>\n",
       "      <td>Bervin Hedman</td>\n",
       "      <td>6th July 2023</td>\n",
       "      <td>\"short-changing passengers\"</td>\n",
       "      <td>4</td>\n",
       "      <td>Family Leisure</td>\n",
       "      <td>Premium Economy</td>\n",
       "      <td>Kingston to London</td>\n",
       "      <td>June 2023</td>\n",
       "      <td>5</td>\n",
       "      <td>4</td>\n",
       "      <td>4</td>\n",
       "      <td>3</td>\n",
       "      <td>3</td>\n",
       "      <td>no</td>\n",
       "    </tr>\n",
       "    <tr>\n",
       "      <th>1</th>\n",
       "      <td>Alastair Cockburn</td>\n",
       "      <td>5th July 2023</td>\n",
       "      <td>\"Economy is absolutely awful\"</td>\n",
       "      <td>1</td>\n",
       "      <td>Couple Leisure</td>\n",
       "      <td>Economy Class</td>\n",
       "      <td>London Heathrow to Cape Town</td>\n",
       "      <td>June 2023</td>\n",
       "      <td>1</td>\n",
       "      <td>3</td>\n",
       "      <td>1</td>\n",
       "      <td>3</td>\n",
       "      <td>2</td>\n",
       "      <td>no</td>\n",
       "    </tr>\n",
       "    <tr>\n",
       "      <th>2</th>\n",
       "      <td>S Carlsen</td>\n",
       "      <td>5th July 2023</td>\n",
       "      <td>\"Shocking customer service\"</td>\n",
       "      <td>1</td>\n",
       "      <td>Couple Leisure</td>\n",
       "      <td>Economy Class</td>\n",
       "      <td>London Heathrow to Ibiza</td>\n",
       "      <td>July 2023</td>\n",
       "      <td>0</td>\n",
       "      <td>0</td>\n",
       "      <td>0</td>\n",
       "      <td>1</td>\n",
       "      <td>1</td>\n",
       "      <td>no</td>\n",
       "    </tr>\n",
       "    <tr>\n",
       "      <th>3</th>\n",
       "      <td>A Diamantopoulos</td>\n",
       "      <td>4th July 2023</td>\n",
       "      <td>\"no representative to help\"</td>\n",
       "      <td>3</td>\n",
       "      <td>Business</td>\n",
       "      <td>Business Class</td>\n",
       "      <td>Washington to London</td>\n",
       "      <td>June 2023</td>\n",
       "      <td>3</td>\n",
       "      <td>3</td>\n",
       "      <td>3</td>\n",
       "      <td>1</td>\n",
       "      <td>1</td>\n",
       "      <td>no</td>\n",
       "    </tr>\n",
       "    <tr>\n",
       "      <th>4</th>\n",
       "      <td>Carlos Whilhelm</td>\n",
       "      <td>3rd July 2023</td>\n",
       "      <td>\"Boarding was chaotic\"</td>\n",
       "      <td>3</td>\n",
       "      <td>Couple Leisure</td>\n",
       "      <td>Economy Class</td>\n",
       "      <td>London Heathrow to Naples</td>\n",
       "      <td>June 2023</td>\n",
       "      <td>1</td>\n",
       "      <td>4</td>\n",
       "      <td>1</td>\n",
       "      <td>2</td>\n",
       "      <td>2</td>\n",
       "      <td>no</td>\n",
       "    </tr>\n",
       "    <tr>\n",
       "      <th>...</th>\n",
       "      <td>...</td>\n",
       "      <td>...</td>\n",
       "      <td>...</td>\n",
       "      <td>...</td>\n",
       "      <td>...</td>\n",
       "      <td>...</td>\n",
       "      <td>...</td>\n",
       "      <td>...</td>\n",
       "      <td>...</td>\n",
       "      <td>...</td>\n",
       "      <td>...</td>\n",
       "      <td>...</td>\n",
       "      <td>...</td>\n",
       "      <td>...</td>\n",
       "    </tr>\n",
       "    <tr>\n",
       "      <th>2995</th>\n",
       "      <td>C Cutts</td>\n",
       "      <td>9th March 2015</td>\n",
       "      <td>British Airways customer review</td>\n",
       "      <td>9</td>\n",
       "      <td>0</td>\n",
       "      <td>Business Class</td>\n",
       "      <td>0</td>\n",
       "      <td>0</td>\n",
       "      <td>4</td>\n",
       "      <td>5</td>\n",
       "      <td>5</td>\n",
       "      <td>0</td>\n",
       "      <td>4</td>\n",
       "      <td>yes</td>\n",
       "    </tr>\n",
       "    <tr>\n",
       "      <th>2996</th>\n",
       "      <td>R Hanstock</td>\n",
       "      <td>9th March 2015</td>\n",
       "      <td>British Airways customer review</td>\n",
       "      <td>4</td>\n",
       "      <td>0</td>\n",
       "      <td>Economy Class</td>\n",
       "      <td>0</td>\n",
       "      <td>0</td>\n",
       "      <td>3</td>\n",
       "      <td>4</td>\n",
       "      <td>2</td>\n",
       "      <td>0</td>\n",
       "      <td>4</td>\n",
       "      <td>no</td>\n",
       "    </tr>\n",
       "    <tr>\n",
       "      <th>2997</th>\n",
       "      <td>Desmond Whelan</td>\n",
       "      <td>9th March 2015</td>\n",
       "      <td>British Airways customer review</td>\n",
       "      <td>2</td>\n",
       "      <td>0</td>\n",
       "      <td>Business Class</td>\n",
       "      <td>0</td>\n",
       "      <td>0</td>\n",
       "      <td>1</td>\n",
       "      <td>2</td>\n",
       "      <td>1</td>\n",
       "      <td>0</td>\n",
       "      <td>2</td>\n",
       "      <td>no</td>\n",
       "    </tr>\n",
       "    <tr>\n",
       "      <th>2998</th>\n",
       "      <td>Richard Lightbody</td>\n",
       "      <td>9th March 2015</td>\n",
       "      <td>British Airways customer review</td>\n",
       "      <td>8</td>\n",
       "      <td>0</td>\n",
       "      <td>Business Class</td>\n",
       "      <td>0</td>\n",
       "      <td>0</td>\n",
       "      <td>3</td>\n",
       "      <td>5</td>\n",
       "      <td>5</td>\n",
       "      <td>0</td>\n",
       "      <td>5</td>\n",
       "      <td>yes</td>\n",
       "    </tr>\n",
       "    <tr>\n",
       "      <th>2999</th>\n",
       "      <td>E Giraud</td>\n",
       "      <td>4th March 2015</td>\n",
       "      <td>British Airways customer review</td>\n",
       "      <td>9</td>\n",
       "      <td>0</td>\n",
       "      <td>Economy Class</td>\n",
       "      <td>0</td>\n",
       "      <td>0</td>\n",
       "      <td>4</td>\n",
       "      <td>5</td>\n",
       "      <td>4</td>\n",
       "      <td>0</td>\n",
       "      <td>5</td>\n",
       "      <td>yes</td>\n",
       "    </tr>\n",
       "  </tbody>\n",
       "</table>\n",
       "<p>3000 rows × 14 columns</p>\n",
       "</div>"
      ],
      "text/plain": [
       "                rate_id       rate_date                       rate_title  \\\n",
       "0         Bervin Hedman   6th July 2023      \"short-changing passengers\"   \n",
       "1     Alastair Cockburn   5th July 2023    \"Economy is absolutely awful\"   \n",
       "2             S Carlsen   5th July 2023      \"Shocking customer service\"   \n",
       "3      A Diamantopoulos   4th July 2023      \"no representative to help\"   \n",
       "4       Carlos Whilhelm   3rd July 2023           \"Boarding was chaotic\"   \n",
       "...                 ...             ...                              ...   \n",
       "2995            C Cutts  9th March 2015  British Airways customer review   \n",
       "2996         R Hanstock  9th March 2015  British Airways customer review   \n",
       "2997     Desmond Whelan  9th March 2015  British Airways customer review   \n",
       "2998  Richard Lightbody  9th March 2015  British Airways customer review   \n",
       "2999           E Giraud  4th March 2015  British Airways customer review   \n",
       "\n",
       "     rate_value  traveller_type        seat_type  \\\n",
       "0             4  Family Leisure  Premium Economy   \n",
       "1             1  Couple Leisure    Economy Class   \n",
       "2             1  Couple Leisure    Economy Class   \n",
       "3             3        Business   Business Class   \n",
       "4             3  Couple Leisure    Economy Class   \n",
       "...         ...             ...              ...   \n",
       "2995          9               0   Business Class   \n",
       "2996          4               0    Economy Class   \n",
       "2997          2               0   Business Class   \n",
       "2998          8               0   Business Class   \n",
       "2999          9               0    Economy Class   \n",
       "\n",
       "                             route date_flown seat_comfort  \\\n",
       "0               Kingston to London  June 2023            5   \n",
       "1     London Heathrow to Cape Town  June 2023            1   \n",
       "2         London Heathrow to Ibiza  July 2023            0   \n",
       "3             Washington to London  June 2023            3   \n",
       "4        London Heathrow to Naples  June 2023            1   \n",
       "...                            ...        ...          ...   \n",
       "2995                             0          0            4   \n",
       "2996                             0          0            3   \n",
       "2997                             0          0            1   \n",
       "2998                             0          0            3   \n",
       "2999                             0          0            4   \n",
       "\n",
       "     cabin_staff_service food_beverage ground_service value_for_money  \\\n",
       "0                      4             4              3               3   \n",
       "1                      3             1              3               2   \n",
       "2                      0             0              1               1   \n",
       "3                      3             3              1               1   \n",
       "4                      4             1              2               2   \n",
       "...                  ...           ...            ...             ...   \n",
       "2995                   5             5              0               4   \n",
       "2996                   4             2              0               4   \n",
       "2997                   2             1              0               2   \n",
       "2998                   5             5              0               5   \n",
       "2999                   5             4              0               5   \n",
       "\n",
       "     recommended  \n",
       "0             no  \n",
       "1             no  \n",
       "2             no  \n",
       "3             no  \n",
       "4             no  \n",
       "...          ...  \n",
       "2995         yes  \n",
       "2996          no  \n",
       "2997          no  \n",
       "2998         yes  \n",
       "2999         yes  \n",
       "\n",
       "[3000 rows x 14 columns]"
      ]
     },
     "execution_count": 20,
     "metadata": {},
     "output_type": "execute_result"
    }
   ],
   "source": [
    "opinions"
   ]
  },
  {
   "cell_type": "code",
   "execution_count": 21,
   "id": "21647e00",
   "metadata": {},
   "outputs": [],
   "source": [
    "opinions.to_csv('airways.csv', index=None)"
   ]
  },
  {
   "cell_type": "code",
   "execution_count": null,
   "id": "a03320a3",
   "metadata": {},
   "outputs": [],
   "source": []
  }
 ],
 "metadata": {
  "kernelspec": {
   "display_name": "Python 3 (ipykernel)",
   "language": "python",
   "name": "python3"
  },
  "language_info": {
   "codemirror_mode": {
    "name": "ipython",
    "version": 3
   },
   "file_extension": ".py",
   "mimetype": "text/x-python",
   "name": "python",
   "nbconvert_exporter": "python",
   "pygments_lexer": "ipython3",
   "version": "3.9.7"
  }
 },
 "nbformat": 4,
 "nbformat_minor": 5
}
